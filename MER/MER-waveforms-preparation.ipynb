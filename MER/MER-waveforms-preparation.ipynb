{
 "cells": [
  {
   "cell_type": "code",
   "execution_count": null,
   "metadata": {
    "id": "B8WBNJ-SuJB4"
   },
   "outputs": [],
   "source": [
    "from google.colab import drive\n",
    "\n",
    "drive.mount(\"/content/drive/\")"
   ]
  },
  {
   "cell_type": "code",
   "execution_count": null,
   "metadata": {
    "colab": {
     "base_uri": "https://localhost:8080/"
    },
    "id": "Z_B74DhNu2rC",
    "outputId": "e4b024c5-e369-416a-9cce-cea7fedbdbf2"
   },
   "outputs": [
    {
     "name": "stdout",
     "output_type": "stream",
     "text": [
      "/content/drive/MyDrive/MER Project\n"
     ]
    }
   ],
   "source": [
    "%cd \"/content/drive/MyDrive/MER Project\""
   ]
  },
  {
   "cell_type": "code",
   "execution_count": null,
   "metadata": {
    "id": "j5Nnl-fMu5MJ"
   },
   "outputs": [],
   "source": [
    "import fnmatch\n",
    "import os\n",
    "\n",
    "files = []\n",
    "for root, dirnames, filenames in os.walk(\"MP3-Example\"):\n",
    "    for filename in fnmatch.filter(filenames, \"*mp3\"):\n",
    "        files.append(os.path.join(root, filename))"
   ]
  },
  {
   "cell_type": "code",
   "execution_count": null,
   "metadata": {
    "id": "BQgOKAH7vFoK"
   },
   "outputs": [],
   "source": []
  },
  {
   "cell_type": "code",
   "execution_count": null,
   "metadata": {
    "id": "YwP_DQV_vZ4Y"
   },
   "outputs": [],
   "source": [
    "import librosa"
   ]
  },
  {
   "cell_type": "code",
   "execution_count": null,
   "metadata": {
    "id": "YEhN2Y9WwHiJ"
   },
   "outputs": [],
   "source": [
    "import torch"
   ]
  },
  {
   "cell_type": "code",
   "execution_count": null,
   "metadata": {
    "id": "CXP_kFwQvzgx"
   },
   "outputs": [],
   "source": []
  },
  {
   "cell_type": "code",
   "execution_count": null,
   "metadata": {
    "id": "hhnc0zQNwv2q"
   },
   "outputs": [],
   "source": [
    "tensors = list()\n",
    "for file in files:\n",
    "    tensors.append(torch.tensor(librosa.load(file, sr=16_000)[0][:50000].squeeze()))"
   ]
  },
  {
   "cell_type": "code",
   "execution_count": null,
   "metadata": {
    "id": "UmOewH6KxKmp"
   },
   "outputs": [],
   "source": [
    "tensor_df = torch.stack(tensors, dim=1)"
   ]
  },
  {
   "cell_type": "code",
   "execution_count": null,
   "metadata": {
    "colab": {
     "base_uri": "https://localhost:8080/"
    },
    "id": "lfSkNDKg4sRw",
    "outputId": "a842f7e2-7d84-453d-82a0-63623b9426dc"
   },
   "outputs": [
    {
     "data": {
      "text/plain": [
       "torch.Size([50000, 1500])"
      ]
     },
     "execution_count": 9,
     "metadata": {},
     "output_type": "execute_result"
    }
   ],
   "source": [
    "tensor_df.shape"
   ]
  },
  {
   "cell_type": "code",
   "execution_count": null,
   "metadata": {
    "id": "YE0AQfre48XI"
   },
   "outputs": [],
   "source": [
    "torch.save(tensor_df, \"/content/drive/MyDrive/MER Project/waveforms_tensor-1600.pt\")"
   ]
  }
 ],
 "metadata": {
  "accelerator": "GPU",
  "colab": {
   "gpuType": "T4",
   "provenance": []
  },
  "kernelspec": {
   "display_name": "Python 3",
   "name": "python3"
  },
  "language_info": {
   "name": "python"
  }
 },
 "nbformat": 4,
 "nbformat_minor": 0
}