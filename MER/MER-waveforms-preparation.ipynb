{
 "cells": [
  {
   "cell_type": "code",
   "execution_count": null,
   "metadata": {
    "colab": {
     "base_uri": "https://localhost:8080/"
    },
    "executionInfo": {
     "elapsed": 64990,
     "status": "ok",
     "timestamp": 1738584844153,
     "user": {
      "displayName": "Никита Заглумонин",
      "userId": "01363261777268179832"
     },
     "user_tz": -180
    },
    "id": "B8WBNJ-SuJB4",
    "outputId": "a4ddd02d-3a1a-4e06-a709-d82c49b68d57"
   },
   "outputs": [
    {
     "name": "stdout",
     "output_type": "stream",
     "text": [
      "Mounted at /content/drive/\n"
     ]
    }
   ],
   "source": [
    "from google.colab import drive\n",
    "\n",
    "drive.mount(\"/content/drive/\")"
   ]
  },
  {
   "cell_type": "code",
   "execution_count": null,
   "metadata": {
    "colab": {
     "base_uri": "https://localhost:8080/"
    },
    "executionInfo": {
     "elapsed": 404,
     "status": "ok",
     "timestamp": 1738584854109,
     "user": {
      "displayName": "Никита Заглумонин",
      "userId": "01363261777268179832"
     },
     "user_tz": -180
    },
    "id": "Z_B74DhNu2rC",
    "outputId": "3b9d6702-546e-46ee-b3b7-376470c21648"
   },
   "outputs": [
    {
     "name": "stdout",
     "output_type": "stream",
     "text": [
      "/content/drive/MyDrive/MER Project\n"
     ]
    }
   ],
   "source": [
    "%cd \"/content/drive/MyDrive/MER Project\""
   ]
  },
  {
   "cell_type": "code",
   "execution_count": null,
   "metadata": {
    "id": "j5Nnl-fMu5MJ"
   },
   "outputs": [],
   "source": [
    "import fnmatch\n",
    "import os\n",
    "\n",
    "files = []\n",
    "for root, dirnames, filenames in os.walk(\"MP3-Example\"):\n",
    "    for filename in fnmatch.filter(filenames, \"*mp3\"):\n",
    "        files.append(os.path.join(root, filename))"
   ]
  },
  {
   "cell_type": "code",
   "execution_count": null,
   "metadata": {
    "id": "BQgOKAH7vFoK"
   },
   "outputs": [],
   "source": []
  },
  {
   "cell_type": "code",
   "execution_count": null,
   "metadata": {
    "id": "YwP_DQV_vZ4Y"
   },
   "outputs": [],
   "source": [
    "import librosa"
   ]
  },
  {
   "cell_type": "code",
   "execution_count": null,
   "metadata": {
    "id": "YEhN2Y9WwHiJ"
   },
   "outputs": [],
   "source": [
    "import torch"
   ]
  },
  {
   "cell_type": "code",
   "execution_count": null,
   "metadata": {
    "id": "CXP_kFwQvzgx"
   },
   "outputs": [],
   "source": []
  },
  {
   "cell_type": "code",
   "execution_count": null,
   "metadata": {
    "id": "hhnc0zQNwv2q"
   },
   "outputs": [],
   "source": [
    "tensors = list()\n",
    "for file in files:\n",
    "    tensors.append(torch.tensor(librosa.load(file)[0][:50000].squeeze()))"
   ]
  },
  {
   "cell_type": "code",
   "execution_count": null,
   "metadata": {
    "id": "UmOewH6KxKmp"
   },
   "outputs": [],
   "source": [
    "tensor_df = torch.stack(tensors, dim=1)"
   ]
  },
  {
   "cell_type": "code",
   "execution_count": null,
   "metadata": {
    "colab": {
     "base_uri": "https://localhost:8080/"
    },
    "executionInfo": {
     "elapsed": 388,
     "status": "ok",
     "timestamp": 1738587484369,
     "user": {
      "displayName": "Никита Заглумонин",
      "userId": "01363261777268179832"
     },
     "user_tz": -180
    },
    "id": "lfSkNDKg4sRw",
    "outputId": "e3c86a88-ed09-4b3a-85c3-4b88d6d9aa1d"
   },
   "outputs": [
    {
     "data": {
      "text/plain": [
       "torch.Size([50000, 1500])"
      ]
     },
     "execution_count": 43,
     "metadata": {},
     "output_type": "execute_result"
    }
   ],
   "source": [
    "tensor_df.shape"
   ]
  },
  {
   "cell_type": "code",
   "execution_count": null,
   "metadata": {
    "id": "YE0AQfre48XI"
   },
   "outputs": [],
   "source": [
    "torch.save(tensor_df, \"/content/drive/MyDrive/MER Project/waveforms_tensor.pt\")"
   ]
  }
 ],
 "metadata": {
  "colab": {
   "authorship_tag": "ABX9TyNbwmfgpUBclzY8EKzM0dBk",
   "provenance": []
  },
  "kernelspec": {
   "display_name": "Python 3",
   "name": "python3"
  },
  "language_info": {
   "name": "python"
  }
 },
 "nbformat": 4,
 "nbformat_minor": 0
}