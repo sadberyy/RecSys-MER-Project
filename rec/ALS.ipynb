{
 "cells": [
  {
   "cell_type": "code",
   "execution_count": 33,
   "metadata": {
    "id": "J0zDZoyV4fV6"
   },
   "outputs": [],
   "source": [
    "import pandas as pd\n",
    "import numpy as np\n",
    "import mlflow\n",
    "from sklearn.preprocessing import LabelEncoder"
   ]
  },
  {
   "cell_type": "code",
   "execution_count": 15,
   "metadata": {
    "colab": {
     "base_uri": "https://localhost:8080/"
    },
    "id": "30YCuX117ClU",
    "outputId": "ae86348f-44c9-4ae7-c9dc-11bc15e60071"
   },
   "outputs": [
    {
     "name": "stdout",
     "output_type": "stream",
     "text": [
      "Requirement already satisfied: implicit in c:\\users\\acer\\anaconda3\\lib\\site-packages (0.7.2)\n",
      "Requirement already satisfied: numpy>=1.17.0 in c:\\users\\acer\\anaconda3\\lib\\site-packages (from implicit) (1.26.4)\n",
      "Requirement already satisfied: scipy>=0.16 in c:\\users\\acer\\anaconda3\\lib\\site-packages (from implicit) (1.13.1)\n",
      "Requirement already satisfied: tqdm>=4.27 in c:\\users\\acer\\anaconda3\\lib\\site-packages (from implicit) (4.67.1)\n",
      "Requirement already satisfied: threadpoolctl in c:\\users\\acer\\anaconda3\\lib\\site-packages (from implicit) (2.2.0)\n",
      "Requirement already satisfied: colorama in c:\\users\\acer\\anaconda3\\lib\\site-packages (from tqdm>=4.27->implicit) (0.4.6)\n"
     ]
    }
   ],
   "source": [
    "!pip install implicit"
   ]
  },
  {
   "cell_type": "code",
   "execution_count": 27,
   "metadata": {},
   "outputs": [
    {
     "name": "stdout",
     "output_type": "stream",
     "text": [
      "0.7.2\n"
     ]
    }
   ],
   "source": [
    "history = pd.read_csv(\"User Listening History.csv\")"
   ]
  },
  {
   "cell_type": "code",
   "execution_count": 17,
   "metadata": {
    "id": "v-iGVU058Sg9"
   },
   "outputs": [],
   "source": [
    "from implicit.als import AlternatingLeastSquares\n",
    "from scipy.sparse import csr_matrix"
   ]
  },
  {
   "cell_type": "code",
   "execution_count": 65,
   "metadata": {},
   "outputs": [],
   "source": [
    "from implicit.evaluation import ndcg_at_k, mean_average_precision_at_k"
   ]
  },
  {
   "cell_type": "code",
   "execution_count": 79,
   "metadata": {},
   "outputs": [
    {
     "data": {
      "text/plain": [
       "<Experiment: artifact_location='mlflow-artifacts:/117777105458341967', creation_time=1739880424523, experiment_id='117777105458341967', last_update_time=1739880424523, lifecycle_stage='active', name='ials', tags={}>"
      ]
     },
     "execution_count": 79,
     "metadata": {},
     "output_type": "execute_result"
    }
   ],
   "source": [
    "mlflow.set_experiment(\"ials\")"
   ]
  },
  {
   "cell_type": "code",
   "execution_count": null,
   "metadata": {},
   "outputs": [],
   "source": [
    "import os\n",
    "\n",
    "os.environ[\"OPENBLAS_NUM_THREADS\"] = \"1\""
   ]
  },
  {
   "cell_type": "code",
   "execution_count": 143,
   "metadata": {},
   "outputs": [],
   "source": [
    "def split_data(history, test_size=0.2, random_state=42):\n",
    "    # Создаем копию, чтобы не менять исходный DataFrame\n",
    "    history = history.copy()\n",
    "    np.random.seed(random_state)\n",
    "    # Генерируем случайное число для каждой строки\n",
    "    history[\"rand\"] = np.random.rand(len(history))\n",
    "\n",
    "    # Строки с rand < test_size попадут в тестовую выборку\n",
    "    test_samples = history[history[\"rand\"] < test_size].drop(columns=[\"rand\"])\n",
    "    train_data = history[history[\"rand\"] >= test_size].drop(columns=[\"rand\"])\n",
    "\n",
    "    # Формируем тестовые данные как словарь {user_id: [track_id]}\n",
    "    test_data = test_samples.groupby(\"user_id\")[\"track_id\"].apply(list).to_dict()\n",
    "    return train_data, test_data"
   ]
  },
  {
   "cell_type": "code",
   "execution_count": null,
   "metadata": {},
   "outputs": [],
   "source": [
    "def prepare_data(history_path, minfo_path):\n",
    "    history = pd.read_csv(history_path, dtype={\"user_id\": \"str\", \"track_id\": \"str\"})\n",
    "    minfo = pd.read_csv(minfo_path, dtype={\"track_id\": \"str\"})\n",
    "\n",
    "    history = history[\n",
    "        (history[\"playcount\"] > 0)\n",
    "        & (history[\"user_id\"].str.len() > 5)\n",
    "        & (history[\"track_id\"].isin(minfo[\"track_id\"]))\n",
    "    ].copy()\n",
    "    history = history.groupby([\"user_id\", \"track_id\"])[\"playcount\"].sum().reset_index()\n",
    "    if len(history) == 0:\n",
    "        raise ValueError(\"Нет данных после очистки\")\n",
    "\n",
    "    user_encoder = LabelEncoder()\n",
    "    track_encoder = LabelEncoder()\n",
    "    history[\"user_encoded\"] = user_encoder.fit_transform(history[\"user_id\"])\n",
    "    history[\"track_encoded\"] = track_encoder.fit_transform(history[\"track_id\"])\n",
    "\n",
    "    row = history[\"user_encoded\"].values\n",
    "    col = history[\"track_encoded\"].values\n",
    "    data = 1 + 0.5 * np.log1p(history[\"playcount\"].values)\n",
    "\n",
    "    sparse_matrix = csr_matrix(\n",
    "        (data, (row, col)),\n",
    "        shape=(len(user_encoder.classes_), len(track_encoder.classes_)),\n",
    "    )\n",
    "\n",
    "    # фильтрация неактивных пользователей\n",
    "    user_activity = np.diff(sparse_matrix.indptr)\n",
    "    active_users_mask = user_activity > 0\n",
    "    sparse_matrix = sparse_matrix[active_users_mask]\n",
    "\n",
    "    active_user_ids = user_encoder.classes_[active_users_mask]\n",
    "    user_encoder = LabelEncoder()\n",
    "    user_encoder.fit(active_user_ids)\n",
    "\n",
    "    return sparse_matrix, user_encoder, track_encoder, minfo"
   ]
  },
  {
   "cell_type": "code",
   "execution_count": null,
   "metadata": {},
   "outputs": [],
   "source": [
    "def train_model(sparse_matrix):\n",
    "    user_item_matrix = sparse_matrix.tocsr()\n",
    "\n",
    "    model = AlternatingLeastSquares(\n",
    "        factors=64, regularization=0.5, iterations=50, random_state=42, dtype=np.float32\n",
    "    )\n",
    "\n",
    "    alpha = 10  # слишком много треков с низким числом прослушиваний, и когда задаешь большую alpha, модель начинает их переоценивать\n",
    "    model.fit(user_item_matrix * alpha)\n",
    "\n",
    "    return model, user_item_matrix"
   ]
  },
  {
   "cell_type": "code",
   "execution_count": null,
   "metadata": {},
   "outputs": [],
   "source": [
    "def get_recommendations(\n",
    "    user_id,\n",
    "    model,\n",
    "    user_encoder,\n",
    "    track_encoder,\n",
    "    minfo,\n",
    "    user_item_matrix,\n",
    "    history_df,\n",
    "    top_k=10,\n",
    "):\n",
    "    try:\n",
    "        if user_id not in user_encoder.classes_:\n",
    "            return pd.DataFrame(columns=[\"artist\", \"name\"])\n",
    "\n",
    "        internal_id = user_encoder.transform([user_id])[0]\n",
    "\n",
    "        if internal_id >= user_item_matrix.shape[0]:\n",
    "            return pd.DataFrame(columns=[\"artist\", \"name\"])\n",
    "\n",
    "        # Получаем рекомендации\n",
    "        item_ids, scores = model.recommend(\n",
    "            internal_id,\n",
    "            user_item_matrix[internal_id],\n",
    "            N=top_k * 2,  # Берем с запасом\n",
    "            filter_already_liked_items=False,\n",
    "        )\n",
    "\n",
    "        # прослушанные треки пользователя, чтобы рекомендавались не они\n",
    "        listened_tracks = history_df[history_df[\"user_id\"] == user_id][\n",
    "            \"track_id\"\n",
    "        ].unique()\n",
    "\n",
    "        track_ids = track_encoder.inverse_transform(item_ids)\n",
    "        recommendations = minfo[minfo[\"track_id\"].isin(track_ids)]\n",
    "\n",
    "        recommendations = recommendations[\n",
    "            ~recommendations[\"track_id\"].isin(listened_tracks)\n",
    "        ]\n",
    "\n",
    "        return recommendations.head(top_k)\n",
    "\n",
    "    except Exception as e:\n",
    "        print(f\"Ошибка: {str(e)}\")\n",
    "        return pd.DataFrame(columns=[\"artist\", \"name\"])"
   ]
  },
  {
   "cell_type": "code",
   "execution_count": 159,
   "metadata": {},
   "outputs": [
    {
     "data": {
      "application/vnd.jupyter.widget-view+json": {
       "model_id": "e61b09c8b3a84ec49d42b0e78f98b06f",
       "version_major": 2,
       "version_minor": 0
      },
      "text/plain": [
       "  0%|          | 0/50 [00:00<?, ?it/s]"
      ]
     },
     "metadata": {},
     "output_type": "display_data"
    },
    {
     "name": "stdout",
     "output_type": "stream",
     "text": [
      "\n",
      "Топ-10 рекомендаций для b80344d063b5ccb3212f76538f3d9e43d87dca9e:\n",
      "1. Kings of Leon - Revelry\n",
      "2. Fleet Foxes - Tiger Mountain Peasant Song\n",
      "3. Fleet Foxes - Your Protector\n",
      "4. Fleet Foxes - Sun It Rises\n",
      "5. Jack Johnson - Staple It Together\n",
      "6. Fleet Foxes - Oliver James\n",
      "7. John Mayer - Heartbreak Warfare\n",
      "8. Zero 7 - In the Waiting Line\n",
      "9. Fleet Foxes - White Winter Hymnal\n",
      "10. Jack Johnson - The News\n"
     ]
    },
    {
     "data": {
      "application/vnd.jupyter.widget-view+json": {
       "model_id": "a6e7e17bd5834d988c05d418a612557a",
       "version_major": 2,
       "version_minor": 0
      },
      "text/plain": [
       "  0%|          | 0/637276 [00:00<?, ?it/s]"
      ]
     },
     "metadata": {},
     "output_type": "display_data"
    },
    {
     "data": {
      "application/vnd.jupyter.widget-view+json": {
       "model_id": "d1ade15f3d5348ffb18f9deb0c383761",
       "version_major": 2,
       "version_minor": 0
      },
      "text/plain": [
       "  0%|          | 0/637276 [00:00<?, ?it/s]"
      ]
     },
     "metadata": {},
     "output_type": "display_data"
    },
    {
     "name": "stdout",
     "output_type": "stream",
     "text": [
      "NDCG_10: 0.3083, MAP_10: 0.2364\n"
     ]
    },
    {
     "name": "stderr",
     "output_type": "stream",
     "text": [
      "2025/02/18 22:06:51 WARNING mlflow.sklearn: Model was missing function: predict. Not logging python_function flavor!\n",
      "2025/02/18 22:06:58 WARNING mlflow.models.model: Model logged without a signature and input example. Please set `input_example` parameter when logging the model to auto infer the model signature.\n"
     ]
    },
    {
     "name": "stdout",
     "output_type": "stream",
     "text": [
      "🏃 View run shivering-boar-491 at: http://127.0.0.1:5000/#/experiments/117777105458341967/runs/6e266e528fe84a85b90b085e376a8856\n",
      "🧪 View experiment at: http://127.0.0.1:5000/#/experiments/117777105458341967\n"
     ]
    }
   ],
   "source": [
    "train, test = split_data(history, test_size=0.2)\n",
    "sparse_matrix, user_encoder, track_encoder, minfo = prepare_data(\n",
    "    \"User Listening History.csv\", \"Music Info.csv\"\n",
    ")\n",
    "\n",
    "mlflow.set_tracking_uri(\"http://127.0.0.1:5000\")\n",
    "with mlflow.start_run():\n",
    "\n",
    "    # логируем параметры модели\n",
    "    mlflow.log_param(\"factors\", 64)\n",
    "    mlflow.log_param(\"regularization\", 0.5)\n",
    "    mlflow.log_param(\"iterations\", 50)\n",
    "    mlflow.log_param(\"alpha\", 10)\n",
    "    mlflow.log_param(\"k\", 20)\n",
    "\n",
    "    model, user_item_matrix = train_model(sparse_matrix)\n",
    "\n",
    "    user_id = \"b80344d063b5ccb3212f76538f3d9e43d87dca9e\"\n",
    "\n",
    "    if user_id in user_encoder.classes_:\n",
    "        recs = get_recommendations(\n",
    "            user_id,\n",
    "            model,\n",
    "            user_encoder,\n",
    "            track_encoder,\n",
    "            minfo,\n",
    "            user_item_matrix,\n",
    "            history,\n",
    "        )\n",
    "        print(f\"\\nТоп-10 рекомендаций для {user_id}:\")\n",
    "        for i, (artist, name) in enumerate(zip(recs[\"artist\"], recs[\"name\"]), 1):\n",
    "            print(f\"{i}. {artist} - {name}\")\n",
    "    else:\n",
    "        print(\"Пользователь не найден в системе\")\n",
    "\n",
    "    # подготовка данных к логам метрик\n",
    "\n",
    "    user_encoder = dict(zip(user_encoder.classes_, range(len(user_encoder.classes_))))\n",
    "    track_encoder = dict(\n",
    "        zip(track_encoder.classes_, range(len(track_encoder.classes_)))\n",
    "    )\n",
    "    train[\"user_encoded\"] = train[\"user_id\"].map(user_encoder)\n",
    "    train[\"track_encoded\"] = train[\"track_id\"].map(track_encoder)\n",
    "\n",
    "    train_csr = csr_matrix(\n",
    "        (\n",
    "            train[\"playcount\"].values,\n",
    "            (train[\"user_encoded\"].values, train[\"track_encoded\"].values),\n",
    "        )\n",
    "    )\n",
    "    user_idxn, track_idxn = [], []\n",
    "\n",
    "    for user, tracks in test.items():\n",
    "        if user in user_encoder:  # Проверяем, есть ли пользователь в train\n",
    "            for track in tracks:\n",
    "                if track in track_encoder:  # Проверяем, есть ли трек в train\n",
    "                    user_idxn.append(user_encoder[user])\n",
    "                    track_idxn.append(track_encoder[track])\n",
    "\n",
    "    user_idxn = np.array(user_idxn)\n",
    "    track_idxn = np.array(track_idxn)\n",
    "\n",
    "    test_csr = csr_matrix(\n",
    "        (np.ones_like(user_idxn), (user_idxn, track_idxn)),\n",
    "        shape=(len(user_encoder), len(track_encoder)),\n",
    "    )\n",
    "\n",
    "    k = 10\n",
    "    ndcg_at_10 = ndcg_at_k(model, train_csr, test_csr, 10)\n",
    "    map_at_10 = mean_average_precision_at_k(model, train_csr, test_csr, 10)\n",
    "    print(f\"NDCG_{k}: {ndcg_at_10:.4f}, MAP_{k}: {map_at_10:.4f}\")\n",
    "\n",
    "    # лог метрик\n",
    "    mlflow.log_metric(\"NDCG_10\", ndcg_at_10)\n",
    "    mlflow.log_metric(\"MAP_10\", map_at_10)\n",
    "\n",
    "    mlflow.sklearn.log_model(model, \"ials\")"
   ]
  },
  {
   "cell_type": "code",
   "execution_count": null,
   "metadata": {},
   "outputs": [],
   "source": []
  }
 ],
 "metadata": {
  "colab": {
   "provenance": []
  },
  "kernelspec": {
   "display_name": "Python 3 (ipykernel)",
   "language": "python",
   "name": "python3"
  },
  "language_info": {
   "codemirror_mode": {
    "name": "ipython",
    "version": 3
   },
   "file_extension": ".py",
   "mimetype": "text/x-python",
   "name": "python",
   "nbconvert_exporter": "python",
   "pygments_lexer": "ipython3",
   "version": "3.12.3"
  },
  "widgets": {
   "application/vnd.jupyter.widget-state+json": {
    "196149db24cc41f486f68649a2148c27": {
     "model_module": "@jupyter-widgets/controls",
     "model_module_version": "1.5.0",
     "model_name": "ProgressStyleModel",
     "state": {
      "_model_module": "@jupyter-widgets/controls",
      "_model_module_version": "1.5.0",
      "_model_name": "ProgressStyleModel",
      "_view_count": null,
      "_view_module": "@jupyter-widgets/base",
      "_view_module_version": "1.2.0",
      "_view_name": "StyleView",
      "bar_color": null,
      "description_width": ""
     }
    },
    "29d2d02dd7f64469ad1ad83f43908df0": {
     "model_module": "@jupyter-widgets/base",
     "model_module_version": "1.2.0",
     "model_name": "LayoutModel",
     "state": {
      "_model_module": "@jupyter-widgets/base",
      "_model_module_version": "1.2.0",
      "_model_name": "LayoutModel",
      "_view_count": null,
      "_view_module": "@jupyter-widgets/base",
      "_view_module_version": "1.2.0",
      "_view_name": "LayoutView",
      "align_content": null,
      "align_items": null,
      "align_self": null,
      "border": null,
      "bottom": null,
      "display": null,
      "flex": null,
      "flex_flow": null,
      "grid_area": null,
      "grid_auto_columns": null,
      "grid_auto_flow": null,
      "grid_auto_rows": null,
      "grid_column": null,
      "grid_gap": null,
      "grid_row": null,
      "grid_template_areas": null,
      "grid_template_columns": null,
      "grid_template_rows": null,
      "height": null,
      "justify_content": null,
      "justify_items": null,
      "left": null,
      "margin": null,
      "max_height": null,
      "max_width": null,
      "min_height": null,
      "min_width": null,
      "object_fit": null,
      "object_position": null,
      "order": null,
      "overflow": null,
      "overflow_x": null,
      "overflow_y": null,
      "padding": null,
      "right": null,
      "top": null,
      "visibility": null,
      "width": null
     }
    },
    "2bc591c5bb464b599bd25da280499103": {
     "model_module": "@jupyter-widgets/base",
     "model_module_version": "1.2.0",
     "model_name": "LayoutModel",
     "state": {
      "_model_module": "@jupyter-widgets/base",
      "_model_module_version": "1.2.0",
      "_model_name": "LayoutModel",
      "_view_count": null,
      "_view_module": "@jupyter-widgets/base",
      "_view_module_version": "1.2.0",
      "_view_name": "LayoutView",
      "align_content": null,
      "align_items": null,
      "align_self": null,
      "border": null,
      "bottom": null,
      "display": null,
      "flex": null,
      "flex_flow": null,
      "grid_area": null,
      "grid_auto_columns": null,
      "grid_auto_flow": null,
      "grid_auto_rows": null,
      "grid_column": null,
      "grid_gap": null,
      "grid_row": null,
      "grid_template_areas": null,
      "grid_template_columns": null,
      "grid_template_rows": null,
      "height": null,
      "justify_content": null,
      "justify_items": null,
      "left": null,
      "margin": null,
      "max_height": null,
      "max_width": null,
      "min_height": null,
      "min_width": null,
      "object_fit": null,
      "object_position": null,
      "order": null,
      "overflow": null,
      "overflow_x": null,
      "overflow_y": null,
      "padding": null,
      "right": null,
      "top": null,
      "visibility": null,
      "width": null
     }
    },
    "3cef37c23fe7463394ac07cdc772755f": {
     "model_module": "@jupyter-widgets/base",
     "model_module_version": "1.2.0",
     "model_name": "LayoutModel",
     "state": {
      "_model_module": "@jupyter-widgets/base",
      "_model_module_version": "1.2.0",
      "_model_name": "LayoutModel",
      "_view_count": null,
      "_view_module": "@jupyter-widgets/base",
      "_view_module_version": "1.2.0",
      "_view_name": "LayoutView",
      "align_content": null,
      "align_items": null,
      "align_self": null,
      "border": null,
      "bottom": null,
      "display": null,
      "flex": null,
      "flex_flow": null,
      "grid_area": null,
      "grid_auto_columns": null,
      "grid_auto_flow": null,
      "grid_auto_rows": null,
      "grid_column": null,
      "grid_gap": null,
      "grid_row": null,
      "grid_template_areas": null,
      "grid_template_columns": null,
      "grid_template_rows": null,
      "height": null,
      "justify_content": null,
      "justify_items": null,
      "left": null,
      "margin": null,
      "max_height": null,
      "max_width": null,
      "min_height": null,
      "min_width": null,
      "object_fit": null,
      "object_position": null,
      "order": null,
      "overflow": null,
      "overflow_x": null,
      "overflow_y": null,
      "padding": null,
      "right": null,
      "top": null,
      "visibility": null,
      "width": null
     }
    },
    "4cc3e37d5b774ef29d4a4293abdff9bc": {
     "model_module": "@jupyter-widgets/controls",
     "model_module_version": "1.5.0",
     "model_name": "HBoxModel",
     "state": {
      "_dom_classes": [],
      "_model_module": "@jupyter-widgets/controls",
      "_model_module_version": "1.5.0",
      "_model_name": "HBoxModel",
      "_view_count": null,
      "_view_module": "@jupyter-widgets/controls",
      "_view_module_version": "1.5.0",
      "_view_name": "HBoxView",
      "box_style": "",
      "children": [
       "IPY_MODEL_6d7a4c68b23446d2878b673e7bf2c553",
       "IPY_MODEL_926415c9d3c84c2c86714ea2505cfde9",
       "IPY_MODEL_573dbcaf7be047dfb3a66330a103d8de"
      ],
      "layout": "IPY_MODEL_5aa1d05a97194669b8cea4f0189d61b4"
     }
    },
    "573dbcaf7be047dfb3a66330a103d8de": {
     "model_module": "@jupyter-widgets/controls",
     "model_module_version": "1.5.0",
     "model_name": "HTMLModel",
     "state": {
      "_dom_classes": [],
      "_model_module": "@jupyter-widgets/controls",
      "_model_module_version": "1.5.0",
      "_model_name": "HTMLModel",
      "_view_count": null,
      "_view_module": "@jupyter-widgets/controls",
      "_view_module_version": "1.5.0",
      "_view_name": "HTMLView",
      "description": "",
      "description_tooltip": null,
      "layout": "IPY_MODEL_3cef37c23fe7463394ac07cdc772755f",
      "placeholder": "​",
      "style": "IPY_MODEL_c0748f3003c148889187109f610c3c41",
      "value": " 50/50 [00:30&lt;00:00,  1.71it/s]"
     }
    },
    "5aa1d05a97194669b8cea4f0189d61b4": {
     "model_module": "@jupyter-widgets/base",
     "model_module_version": "1.2.0",
     "model_name": "LayoutModel",
     "state": {
      "_model_module": "@jupyter-widgets/base",
      "_model_module_version": "1.2.0",
      "_model_name": "LayoutModel",
      "_view_count": null,
      "_view_module": "@jupyter-widgets/base",
      "_view_module_version": "1.2.0",
      "_view_name": "LayoutView",
      "align_content": null,
      "align_items": null,
      "align_self": null,
      "border": null,
      "bottom": null,
      "display": null,
      "flex": null,
      "flex_flow": null,
      "grid_area": null,
      "grid_auto_columns": null,
      "grid_auto_flow": null,
      "grid_auto_rows": null,
      "grid_column": null,
      "grid_gap": null,
      "grid_row": null,
      "grid_template_areas": null,
      "grid_template_columns": null,
      "grid_template_rows": null,
      "height": null,
      "justify_content": null,
      "justify_items": null,
      "left": null,
      "margin": null,
      "max_height": null,
      "max_width": null,
      "min_height": null,
      "min_width": null,
      "object_fit": null,
      "object_position": null,
      "order": null,
      "overflow": null,
      "overflow_x": null,
      "overflow_y": null,
      "padding": null,
      "right": null,
      "top": null,
      "visibility": null,
      "width": null
     }
    },
    "6d7a4c68b23446d2878b673e7bf2c553": {
     "model_module": "@jupyter-widgets/controls",
     "model_module_version": "1.5.0",
     "model_name": "HTMLModel",
     "state": {
      "_dom_classes": [],
      "_model_module": "@jupyter-widgets/controls",
      "_model_module_version": "1.5.0",
      "_model_name": "HTMLModel",
      "_view_count": null,
      "_view_module": "@jupyter-widgets/controls",
      "_view_module_version": "1.5.0",
      "_view_name": "HTMLView",
      "description": "",
      "description_tooltip": null,
      "layout": "IPY_MODEL_97c02690cc35490689bc9f29616176c1",
      "placeholder": "​",
      "style": "IPY_MODEL_8d060bdd351b4119bd3ec7f44b8bc3b2",
      "value": "100%"
     }
    },
    "7e7364552a264d89ab30ed2db378fe7c": {
     "model_module": "@jupyter-widgets/base",
     "model_module_version": "1.2.0",
     "model_name": "LayoutModel",
     "state": {
      "_model_module": "@jupyter-widgets/base",
      "_model_module_version": "1.2.0",
      "_model_name": "LayoutModel",
      "_view_count": null,
      "_view_module": "@jupyter-widgets/base",
      "_view_module_version": "1.2.0",
      "_view_name": "LayoutView",
      "align_content": null,
      "align_items": null,
      "align_self": null,
      "border": null,
      "bottom": null,
      "display": null,
      "flex": null,
      "flex_flow": null,
      "grid_area": null,
      "grid_auto_columns": null,
      "grid_auto_flow": null,
      "grid_auto_rows": null,
      "grid_column": null,
      "grid_gap": null,
      "grid_row": null,
      "grid_template_areas": null,
      "grid_template_columns": null,
      "grid_template_rows": null,
      "height": null,
      "justify_content": null,
      "justify_items": null,
      "left": null,
      "margin": null,
      "max_height": null,
      "max_width": null,
      "min_height": null,
      "min_width": null,
      "object_fit": null,
      "object_position": null,
      "order": null,
      "overflow": null,
      "overflow_x": null,
      "overflow_y": null,
      "padding": null,
      "right": null,
      "top": null,
      "visibility": null,
      "width": null
     }
    },
    "841be24962304fc3862997e94c93251e": {
     "model_module": "@jupyter-widgets/controls",
     "model_module_version": "1.5.0",
     "model_name": "HBoxModel",
     "state": {
      "_dom_classes": [],
      "_model_module": "@jupyter-widgets/controls",
      "_model_module_version": "1.5.0",
      "_model_name": "HBoxModel",
      "_view_count": null,
      "_view_module": "@jupyter-widgets/controls",
      "_view_module_version": "1.5.0",
      "_view_name": "HBoxView",
      "box_style": "",
      "children": [
       "IPY_MODEL_91f00406d2c0486fbbe5bac2c221317d",
       "IPY_MODEL_cc9177c952134dd9b4754dec01a7aa2d",
       "IPY_MODEL_a5eeebd8397d47c6a9ac320e028ce619"
      ],
      "layout": "IPY_MODEL_7e7364552a264d89ab30ed2db378fe7c"
     }
    },
    "8d060bdd351b4119bd3ec7f44b8bc3b2": {
     "model_module": "@jupyter-widgets/controls",
     "model_module_version": "1.5.0",
     "model_name": "DescriptionStyleModel",
     "state": {
      "_model_module": "@jupyter-widgets/controls",
      "_model_module_version": "1.5.0",
      "_model_name": "DescriptionStyleModel",
      "_view_count": null,
      "_view_module": "@jupyter-widgets/base",
      "_view_module_version": "1.2.0",
      "_view_name": "StyleView",
      "description_width": ""
     }
    },
    "91f00406d2c0486fbbe5bac2c221317d": {
     "model_module": "@jupyter-widgets/controls",
     "model_module_version": "1.5.0",
     "model_name": "HTMLModel",
     "state": {
      "_dom_classes": [],
      "_model_module": "@jupyter-widgets/controls",
      "_model_module_version": "1.5.0",
      "_model_name": "HTMLModel",
      "_view_count": null,
      "_view_module": "@jupyter-widgets/controls",
      "_view_module_version": "1.5.0",
      "_view_name": "HTMLView",
      "description": "",
      "description_tooltip": null,
      "layout": "IPY_MODEL_d348ab5b3485423db5b83159ebaa1f0c",
      "placeholder": "​",
      "style": "IPY_MODEL_c98b0148337e469a82ec980a9802839e",
      "value": "100%"
     }
    },
    "926415c9d3c84c2c86714ea2505cfde9": {
     "model_module": "@jupyter-widgets/controls",
     "model_module_version": "1.5.0",
     "model_name": "FloatProgressModel",
     "state": {
      "_dom_classes": [],
      "_model_module": "@jupyter-widgets/controls",
      "_model_module_version": "1.5.0",
      "_model_name": "FloatProgressModel",
      "_view_count": null,
      "_view_module": "@jupyter-widgets/controls",
      "_view_module_version": "1.5.0",
      "_view_name": "ProgressView",
      "bar_style": "success",
      "description": "",
      "description_tooltip": null,
      "layout": "IPY_MODEL_2bc591c5bb464b599bd25da280499103",
      "max": 50,
      "min": 0,
      "orientation": "horizontal",
      "style": "IPY_MODEL_b964405cdabe44988bd5769fc0ba7a98",
      "value": 50
     }
    },
    "97c02690cc35490689bc9f29616176c1": {
     "model_module": "@jupyter-widgets/base",
     "model_module_version": "1.2.0",
     "model_name": "LayoutModel",
     "state": {
      "_model_module": "@jupyter-widgets/base",
      "_model_module_version": "1.2.0",
      "_model_name": "LayoutModel",
      "_view_count": null,
      "_view_module": "@jupyter-widgets/base",
      "_view_module_version": "1.2.0",
      "_view_name": "LayoutView",
      "align_content": null,
      "align_items": null,
      "align_self": null,
      "border": null,
      "bottom": null,
      "display": null,
      "flex": null,
      "flex_flow": null,
      "grid_area": null,
      "grid_auto_columns": null,
      "grid_auto_flow": null,
      "grid_auto_rows": null,
      "grid_column": null,
      "grid_gap": null,
      "grid_row": null,
      "grid_template_areas": null,
      "grid_template_columns": null,
      "grid_template_rows": null,
      "height": null,
      "justify_content": null,
      "justify_items": null,
      "left": null,
      "margin": null,
      "max_height": null,
      "max_width": null,
      "min_height": null,
      "min_width": null,
      "object_fit": null,
      "object_position": null,
      "order": null,
      "overflow": null,
      "overflow_x": null,
      "overflow_y": null,
      "padding": null,
      "right": null,
      "top": null,
      "visibility": null,
      "width": null
     }
    },
    "986394061146409eb78243bf9b630c2f": {
     "model_module": "@jupyter-widgets/controls",
     "model_module_version": "1.5.0",
     "model_name": "DescriptionStyleModel",
     "state": {
      "_model_module": "@jupyter-widgets/controls",
      "_model_module_version": "1.5.0",
      "_model_name": "DescriptionStyleModel",
      "_view_count": null,
      "_view_module": "@jupyter-widgets/base",
      "_view_module_version": "1.2.0",
      "_view_name": "StyleView",
      "description_width": ""
     }
    },
    "a5eeebd8397d47c6a9ac320e028ce619": {
     "model_module": "@jupyter-widgets/controls",
     "model_module_version": "1.5.0",
     "model_name": "HTMLModel",
     "state": {
      "_dom_classes": [],
      "_model_module": "@jupyter-widgets/controls",
      "_model_module_version": "1.5.0",
      "_model_name": "HTMLModel",
      "_view_count": null,
      "_view_module": "@jupyter-widgets/controls",
      "_view_module_version": "1.5.0",
      "_view_name": "HTMLView",
      "description": "",
      "description_tooltip": null,
      "layout": "IPY_MODEL_efd37cd59c764f5e93090c5c45d1aa19",
      "placeholder": "​",
      "style": "IPY_MODEL_986394061146409eb78243bf9b630c2f",
      "value": " 50/50 [00:29&lt;00:00,  1.77it/s]"
     }
    },
    "b964405cdabe44988bd5769fc0ba7a98": {
     "model_module": "@jupyter-widgets/controls",
     "model_module_version": "1.5.0",
     "model_name": "ProgressStyleModel",
     "state": {
      "_model_module": "@jupyter-widgets/controls",
      "_model_module_version": "1.5.0",
      "_model_name": "ProgressStyleModel",
      "_view_count": null,
      "_view_module": "@jupyter-widgets/base",
      "_view_module_version": "1.2.0",
      "_view_name": "StyleView",
      "bar_color": null,
      "description_width": ""
     }
    },
    "c0748f3003c148889187109f610c3c41": {
     "model_module": "@jupyter-widgets/controls",
     "model_module_version": "1.5.0",
     "model_name": "DescriptionStyleModel",
     "state": {
      "_model_module": "@jupyter-widgets/controls",
      "_model_module_version": "1.5.0",
      "_model_name": "DescriptionStyleModel",
      "_view_count": null,
      "_view_module": "@jupyter-widgets/base",
      "_view_module_version": "1.2.0",
      "_view_name": "StyleView",
      "description_width": ""
     }
    },
    "c98b0148337e469a82ec980a9802839e": {
     "model_module": "@jupyter-widgets/controls",
     "model_module_version": "1.5.0",
     "model_name": "DescriptionStyleModel",
     "state": {
      "_model_module": "@jupyter-widgets/controls",
      "_model_module_version": "1.5.0",
      "_model_name": "DescriptionStyleModel",
      "_view_count": null,
      "_view_module": "@jupyter-widgets/base",
      "_view_module_version": "1.2.0",
      "_view_name": "StyleView",
      "description_width": ""
     }
    },
    "cc9177c952134dd9b4754dec01a7aa2d": {
     "model_module": "@jupyter-widgets/controls",
     "model_module_version": "1.5.0",
     "model_name": "FloatProgressModel",
     "state": {
      "_dom_classes": [],
      "_model_module": "@jupyter-widgets/controls",
      "_model_module_version": "1.5.0",
      "_model_name": "FloatProgressModel",
      "_view_count": null,
      "_view_module": "@jupyter-widgets/controls",
      "_view_module_version": "1.5.0",
      "_view_name": "ProgressView",
      "bar_style": "success",
      "description": "",
      "description_tooltip": null,
      "layout": "IPY_MODEL_29d2d02dd7f64469ad1ad83f43908df0",
      "max": 50,
      "min": 0,
      "orientation": "horizontal",
      "style": "IPY_MODEL_196149db24cc41f486f68649a2148c27",
      "value": 50
     }
    },
    "d348ab5b3485423db5b83159ebaa1f0c": {
     "model_module": "@jupyter-widgets/base",
     "model_module_version": "1.2.0",
     "model_name": "LayoutModel",
     "state": {
      "_model_module": "@jupyter-widgets/base",
      "_model_module_version": "1.2.0",
      "_model_name": "LayoutModel",
      "_view_count": null,
      "_view_module": "@jupyter-widgets/base",
      "_view_module_version": "1.2.0",
      "_view_name": "LayoutView",
      "align_content": null,
      "align_items": null,
      "align_self": null,
      "border": null,
      "bottom": null,
      "display": null,
      "flex": null,
      "flex_flow": null,
      "grid_area": null,
      "grid_auto_columns": null,
      "grid_auto_flow": null,
      "grid_auto_rows": null,
      "grid_column": null,
      "grid_gap": null,
      "grid_row": null,
      "grid_template_areas": null,
      "grid_template_columns": null,
      "grid_template_rows": null,
      "height": null,
      "justify_content": null,
      "justify_items": null,
      "left": null,
      "margin": null,
      "max_height": null,
      "max_width": null,
      "min_height": null,
      "min_width": null,
      "object_fit": null,
      "object_position": null,
      "order": null,
      "overflow": null,
      "overflow_x": null,
      "overflow_y": null,
      "padding": null,
      "right": null,
      "top": null,
      "visibility": null,
      "width": null
     }
    },
    "efd37cd59c764f5e93090c5c45d1aa19": {
     "model_module": "@jupyter-widgets/base",
     "model_module_version": "1.2.0",
     "model_name": "LayoutModel",
     "state": {
      "_model_module": "@jupyter-widgets/base",
      "_model_module_version": "1.2.0",
      "_model_name": "LayoutModel",
      "_view_count": null,
      "_view_module": "@jupyter-widgets/base",
      "_view_module_version": "1.2.0",
      "_view_name": "LayoutView",
      "align_content": null,
      "align_items": null,
      "align_self": null,
      "border": null,
      "bottom": null,
      "display": null,
      "flex": null,
      "flex_flow": null,
      "grid_area": null,
      "grid_auto_columns": null,
      "grid_auto_flow": null,
      "grid_auto_rows": null,
      "grid_column": null,
      "grid_gap": null,
      "grid_row": null,
      "grid_template_areas": null,
      "grid_template_columns": null,
      "grid_template_rows": null,
      "height": null,
      "justify_content": null,
      "justify_items": null,
      "left": null,
      "margin": null,
      "max_height": null,
      "max_width": null,
      "min_height": null,
      "min_width": null,
      "object_fit": null,
      "object_position": null,
      "order": null,
      "overflow": null,
      "overflow_x": null,
      "overflow_y": null,
      "padding": null,
      "right": null,
      "top": null,
      "visibility": null,
      "width": null
     }
    }
   }
  }
 },
 "nbformat": 4,
 "nbformat_minor": 4
}
