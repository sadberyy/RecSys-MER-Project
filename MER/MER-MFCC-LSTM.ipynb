{
 "cells": [
  {
   "cell_type": "code",
   "execution_count": 1,
   "metadata": {
    "id": "-2Op3vMlnu52"
   },
   "outputs": [],
   "source": [
    "from google.colab import userdata\n",
    "\n",
    "my_secret_key = userdata.get(\"comet_ml_api_key\")"
   ]
  },
  {
   "cell_type": "code",
   "execution_count": 2,
   "metadata": {
    "colab": {
     "base_uri": "https://localhost:8080/"
    },
    "id": "QNCfNLHGn8L1",
    "outputId": "0799d089-98e7-44cb-adf5-44f49dfcf6de"
   },
   "outputs": [
    {
     "name": "stdout",
     "output_type": "stream",
     "text": [
      "\u001b[?25l   \u001b[90m━━━━━━━━━━━━━━━━━━━━━━━━━━━━━━━━━━━━━━━━\u001b[0m \u001b[32m0.0/725.8 kB\u001b[0m \u001b[31m?\u001b[0m eta \u001b[36m-:--:--\u001b[0m\r\u001b[2K   \u001b[91m━━━━━━━━━━━━━━━━━━━━━━━━\u001b[0m\u001b[91m╸\u001b[0m\u001b[90m━━━━━━━━━━━━━━━\u001b[0m \u001b[32m450.6/725.8 kB\u001b[0m \u001b[31m13.4 MB/s\u001b[0m eta \u001b[36m0:00:01\u001b[0m\r\u001b[2K   \u001b[90m━━━━━━━━━━━━━━━━━━━━━━━━━━━━━━━━━━━━━━━━\u001b[0m \u001b[32m725.8/725.8 kB\u001b[0m \u001b[31m9.9 MB/s\u001b[0m eta \u001b[36m0:00:00\u001b[0m\n",
      "\u001b[2K   \u001b[90m━━━━━━━━━━━━━━━━━━━━━━━━━━━━━━━━━━━━━━━━\u001b[0m \u001b[32m1.0/1.0 MB\u001b[0m \u001b[31m31.1 MB/s\u001b[0m eta \u001b[36m0:00:00\u001b[0m\n",
      "\u001b[2K   \u001b[90m━━━━━━━━━━━━━━━━━━━━━━━━━━━━━━━━━━━━━━━━\u001b[0m \u001b[32m3.5/3.5 MB\u001b[0m \u001b[31m24.5 MB/s\u001b[0m eta \u001b[36m0:00:00\u001b[0m\n",
      "\u001b[?25h"
     ]
    },
    {
     "name": "stderr",
     "output_type": "stream",
     "text": [
      "\u001b[1;38;5;214mCOMET WARNING:\u001b[0m As you are running in a Jupyter environment, you will need to call `experiment.end()` when finished to ensure all metrics and code are logged before exiting.\n",
      "\u001b[1;38;5;39mCOMET INFO:\u001b[0m Experiment is live on comet.com https://www.comet.com/nikzagl/lstm-mer/f3ed692e27b2401a91e984cf4b0f0fe8\n",
      "\n"
     ]
    }
   ],
   "source": [
    "! pip install --upgrade comet_ml --quiet\n",
    "from comet_ml import start\n",
    "\n",
    "experiment = start(api_key=my_secret_key, project_name=\"lstm_mer\", workspace=\"nikzagl\")"
   ]
  },
  {
   "cell_type": "code",
   "execution_count": 3,
   "metadata": {
    "colab": {
     "base_uri": "https://localhost:8080/"
    },
    "id": "ipyQR3xboBb9",
    "outputId": "1699fb82-d977-4d9c-9722-6eeb7794f9cc"
   },
   "outputs": [
    {
     "name": "stderr",
     "output_type": "stream",
     "text": [
      "\u001b[1;38;5;39mCOMET INFO:\u001b[0m Couldn't find a Git repository in '/content' nor in any parent directory. Set `COMET_GIT_DIRECTORY` if your Git Repository is elsewhere.\n"
     ]
    },
    {
     "name": "stdout",
     "output_type": "stream",
     "text": [
      "Mounted at /content/drive/\n"
     ]
    }
   ],
   "source": [
    "from google.colab import drive\n",
    "\n",
    "drive.mount(\"/content/drive/\")"
   ]
  },
  {
   "cell_type": "code",
   "execution_count": 4,
   "metadata": {
    "colab": {
     "base_uri": "https://localhost:8080/"
    },
    "id": "AsLE0oYSoD0_",
    "outputId": "c1f1ef38-92aa-4065-cb08-b7dc1874e680"
   },
   "outputs": [
    {
     "name": "stdout",
     "output_type": "stream",
     "text": [
      "/content/drive/MyDrive/MER Project\n"
     ]
    }
   ],
   "source": [
    "%cd \"/content/drive/MyDrive/MER Project\""
   ]
  },
  {
   "cell_type": "code",
   "execution_count": 5,
   "metadata": {
    "id": "vCOC1TwlmLqL"
   },
   "outputs": [],
   "source": [
    "from torch import nn\n",
    "import numpy as np\n",
    "import torch\n",
    "from torch.utils.data import TensorDataset, DataLoader"
   ]
  },
  {
   "cell_type": "code",
   "execution_count": 6,
   "metadata": {
    "id": "hsGR9WStm-UQ"
   },
   "outputs": [],
   "source": [
    "import fnmatch\n",
    "import os\n",
    "\n",
    "files = []\n",
    "for root, dirnames, filenames in os.walk(\"MP3-Example\"):\n",
    "    for filename in fnmatch.filter(filenames, \"*mp3\"):\n",
    "        files.append(os.path.join(root, filename))"
   ]
  },
  {
   "cell_type": "code",
   "execution_count": 7,
   "metadata": {
    "id": "uHz-PuqloYEF"
   },
   "outputs": [],
   "source": [
    "import re\n",
    "\n",
    "track_ids = list()\n",
    "for file in files:\n",
    "    track_id = re.split(\"\\.|-\", file)[-2]\n",
    "    track_ids.append(track_id)"
   ]
  },
  {
   "cell_type": "code",
   "execution_count": 8,
   "metadata": {
    "id": "Qf2K67tzob0N"
   },
   "outputs": [],
   "source": [
    "import pandas as pd\n",
    "\n",
    "musicinfo_df = pd.read_csv(\"Music Info.csv\")"
   ]
  },
  {
   "cell_type": "code",
   "execution_count": 9,
   "metadata": {
    "id": "USN_geJtojO9"
   },
   "outputs": [],
   "source": [
    "track_ids = pd.DataFrame(track_ids).rename({0: \"track_id\"}, axis=1)\n",
    "track_ids = track_ids.join(musicinfo_df.set_index(\"track_id\"), on=\"track_id\")"
   ]
  },
  {
   "cell_type": "code",
   "execution_count": 10,
   "metadata": {
    "id": "uUdkZOJVowQV"
   },
   "outputs": [],
   "source": [
    "def classify_emotions(energy, valence):\n",
    "    e = energy - 0.5\n",
    "    v = valence - 0.5\n",
    "    if v > 0 and e > 0:\n",
    "        return \"Joy\"\n",
    "    elif v < 0 and e > 0:\n",
    "        return \"Anger\"\n",
    "    elif v < 0 and e < 0:\n",
    "        return \"Sad\"\n",
    "    else:\n",
    "        return \"Pleasure\""
   ]
  },
  {
   "cell_type": "code",
   "execution_count": 11,
   "metadata": {
    "id": "-wYNlWyWo0Ku"
   },
   "outputs": [],
   "source": [
    "emotions = track_ids.apply(lambda x: classify_emotions(x.energy, x.valence), axis=1)"
   ]
  },
  {
   "cell_type": "code",
   "execution_count": 12,
   "metadata": {
    "id": "CJdGH07so2uV"
   },
   "outputs": [],
   "source": [
    "from sklearn.preprocessing import LabelEncoder"
   ]
  },
  {
   "cell_type": "code",
   "execution_count": 13,
   "metadata": {
    "id": "TOAr_95zpLRl"
   },
   "outputs": [],
   "source": [
    "le = LabelEncoder()"
   ]
  },
  {
   "cell_type": "code",
   "execution_count": 14,
   "metadata": {
    "id": "i3Ox1CHOpOE9"
   },
   "outputs": [],
   "source": [
    "labels = le.fit_transform(emotions)"
   ]
  },
  {
   "cell_type": "code",
   "execution_count": 15,
   "metadata": {
    "id": "HWBJ44H0pQol"
   },
   "outputs": [],
   "source": [
    "tensor_df = torch.load(\"mfcc_tensor.pt\")"
   ]
  },
  {
   "cell_type": "code",
   "execution_count": 16,
   "metadata": {
    "id": "cpH36YwNpVVF"
   },
   "outputs": [],
   "source": [
    "from sklearn.model_selection import train_test_split\n",
    "\n",
    "tensor_df_train, tensor_df_test, labels_train, labels_test = train_test_split(\n",
    "    tensor_df, labels, random_state=42\n",
    ")"
   ]
  },
  {
   "cell_type": "code",
   "execution_count": 17,
   "metadata": {
    "id": "fHl1t4kIpvgG"
   },
   "outputs": [],
   "source": [
    "train_dataset = TensorDataset(tensor_df_train, torch.tensor(labels_train))"
   ]
  },
  {
   "cell_type": "code",
   "execution_count": 18,
   "metadata": {
    "id": "_oZzmVVMqAMV"
   },
   "outputs": [],
   "source": [
    "device = torch.device(\"cuda\" if torch.cuda.is_available() else \"cpu\")"
   ]
  },
  {
   "cell_type": "code",
   "execution_count": null,
   "metadata": {
    "colab": {
     "base_uri": "https://localhost:8080/"
    },
    "id": "pIDk6BjkqDZP",
    "outputId": "99d8c3bb-6334-4902-bf02-ed009be50dd5"
   },
   "outputs": [
    {
     "data": {
      "text/plain": [
       "<torch._C.Generator at 0x7833d31c04d0>"
      ]
     },
     "execution_count": 19,
     "metadata": {},
     "output_type": "execute_result"
    }
   ],
   "source": [
    "import random\n",
    "\n",
    "hyper_params = {\"seed\": 42, \"batch_size\": 16, \"num_epochs\": 25, \"learning_rate\": 1e-5}\n",
    "\n",
    "\n",
    "# Logging hyperparamters\n",
    "# experiment.log_parameters(hyper_params)\n",
    "random.seed(hyper_params[\"seed\"])\n",
    "torch.manual_seed(hyper_params[\"seed\"])"
   ]
  },
  {
   "cell_type": "code",
   "execution_count": 19,
   "metadata": {
    "id": "2bq2A0MRq_Kl"
   },
   "outputs": [],
   "source": []
  },
  {
   "cell_type": "code",
   "execution_count": 20,
   "metadata": {
    "id": "eirllqypqJL2"
   },
   "outputs": [],
   "source": [
    "from sklearn.utils.class_weight import compute_class_weight\n",
    "from sklearn.metrics import f1_score\n",
    "\n",
    "# Получение весов классов\n",
    "class_weights = compute_class_weight(\n",
    "    \"balanced\", classes=np.unique(labels_train), y=labels_train\n",
    ")"
   ]
  },
  {
   "cell_type": "code",
   "execution_count": 21,
   "metadata": {
    "id": "BfqCcK_OqM0d"
   },
   "outputs": [],
   "source": [
    "class LSTMCNNModel(nn.Module):\n",
    "\n",
    "    def __init__(self, out_feature=4, n_hidden=256, n_layers=2, drop_prob=0.5):\n",
    "        super().__init__()\n",
    "        self.drop_prob = drop_prob\n",
    "        self.n_layers = n_layers\n",
    "        self.n_hidden = n_hidden\n",
    "        self.conv = nn.Conv2d(1, 1, kernel_size=5)\n",
    "\n",
    "        self.lstm = nn.LSTM(\n",
    "            1168 * 16,\n",
    "            self.n_hidden,\n",
    "            self.n_layers,\n",
    "            dropout=self.drop_prob,\n",
    "            batch_first=True,\n",
    "        )\n",
    "\n",
    "        self.dropout = nn.Dropout(drop_prob)\n",
    "\n",
    "        self.fc = nn.Linear(n_hidden, out_feature)\n",
    "\n",
    "    def forward(self, x):\n",
    "        x = x.unsqueeze(dim=1)\n",
    "        # x.shape (batch, seq_len, n_features)\n",
    "        x = self.conv(x)\n",
    "        batch_size, channels, height, width = x.size()\n",
    "        x = x.view(batch_size, channels, -1)  # (batch_size, channels, height * width)\n",
    "        l_out, l_hidden = self.lstm(x)\n",
    "        # out.shape (batch, seq_len, n_hidden*direction)\n",
    "        out = self.dropout(l_out)\n",
    "\n",
    "        # out.shape (batch, out_feature)\n",
    "        out = self.fc(out[:, -1, :])\n",
    "\n",
    "        # return the final output and the hidden state\n",
    "        return out"
   ]
  },
  {
   "cell_type": "code",
   "execution_count": 21,
   "metadata": {
    "id": "ipqpn_WI87tt"
   },
   "outputs": [],
   "source": []
  },
  {
   "cell_type": "code",
   "execution_count": 22,
   "metadata": {
    "id": "RJh3TqWPqVa1"
   },
   "outputs": [],
   "source": [
    "lstm_model = LSTMCNNModel(n_hidden=512, n_layers=2).to(device)"
   ]
  },
  {
   "cell_type": "code",
   "execution_count": 22,
   "metadata": {
    "id": "6H1C3l4H-DoE"
   },
   "outputs": [],
   "source": []
  },
  {
   "cell_type": "code",
   "execution_count": 22,
   "metadata": {
    "id": "VFTA_5YU91CO"
   },
   "outputs": [],
   "source": []
  },
  {
   "cell_type": "code",
   "execution_count": 22,
   "metadata": {
    "id": "bpXhdKGG_lKE"
   },
   "outputs": [],
   "source": []
  },
  {
   "cell_type": "code",
   "execution_count": 22,
   "metadata": {
    "id": "BRjvFg_7_JjW"
   },
   "outputs": [],
   "source": []
  },
  {
   "cell_type": "code",
   "execution_count": 23,
   "metadata": {
    "id": "aOTPJrEZBngK"
   },
   "outputs": [],
   "source": [
    "test_dataset = TensorDataset(tensor_df_test, torch.tensor(labels_test))\n",
    "test_loader = DataLoader(test_dataset, batch_size=16, shuffle=False)"
   ]
  },
  {
   "cell_type": "code",
   "execution_count": 24,
   "metadata": {
    "id": "2yETKPX9qaVN"
   },
   "outputs": [],
   "source": [
    "from torch.utils.data import DataLoader\n",
    "\n",
    "# Создание датасета и загрузчика данных\n",
    "train_loader = DataLoader(\n",
    "    train_dataset, batch_size=hyper_params[\"batch_size\"], shuffle=True\n",
    ")\n",
    "\n",
    "# Оптимизатор\n",
    "optimizer = torch.optim.Adam(lstm_model.parameters(), lr=hyper_params[\"learning_rate\"])\n",
    "loss_function = torch.nn.CrossEntropyLoss(\n",
    "    weight=torch.tensor(class_weights).float().to(device)\n",
    ")\n",
    "num_epochs = hyper_params[\"num_epochs\"]\n",
    "lstm_model.train()\n",
    "step = 0\n",
    "# Цикл обучения\n",
    "for epoch in range(num_epochs):\n",
    "    losses = list()\n",
    "    lstm_model.train()\n",
    "    for audio, labels in train_loader:\n",
    "        optimizer.zero_grad()\n",
    "        audio = audio.to(device)\n",
    "        labels = labels.to(device)\n",
    "        outputs = lstm_model(audio)\n",
    "        loss = loss_function(outputs, labels)\n",
    "        experiment.log_metric(name=\"loss\", value=loss.item(), step=step)\n",
    "        losses.append(loss.item())\n",
    "        loss.backward()\n",
    "        optimizer.step()\n",
    "        step += 1\n",
    "    labels_pred = list()\n",
    "    lstm_model.eval()\n",
    "    with torch.no_grad():\n",
    "        for audio, labels in test_loader:\n",
    "            audio = audio.to(device)\n",
    "            _, outputs = torch.max(lstm_model(audio), 1)\n",
    "            labels_pred += outputs.cpu().tolist()\n",
    "    f1_weighted = f1_score(labels_test, labels_pred, average=\"macro\")\n",
    "    experiment.log_metric(name=\"f1_score_macro\", value=f1_weighted, epoch=epoch)"
   ]
  },
  {
   "cell_type": "code",
   "execution_count": 24,
   "metadata": {
    "id": "R1oysM81qqd9"
   },
   "outputs": [],
   "source": []
  },
  {
   "cell_type": "code",
   "execution_count": 25,
   "metadata": {
    "id": "RSQXoG9grZUl"
   },
   "outputs": [],
   "source": [
    "test_labels = list()\n",
    "labels_pred = list()"
   ]
  },
  {
   "cell_type": "code",
   "execution_count": 25,
   "metadata": {
    "id": "Pjytit4hB1ZL"
   },
   "outputs": [],
   "source": []
  },
  {
   "cell_type": "code",
   "execution_count": 26,
   "metadata": {
    "id": "ZdyCSD-ArAGF"
   },
   "outputs": [],
   "source": [
    "lstm_model.eval()\n",
    "with torch.no_grad():\n",
    "    for audio, labels in test_loader:\n",
    "        audio = audio.to(device)\n",
    "        _, outputs = torch.max(lstm_model(audio), 1)\n",
    "        labels_pred += outputs.cpu().tolist()\n",
    "    experiment.log_confusion_matrix(labels_test, labels_pred, labels=le.classes_)"
   ]
  },
  {
   "cell_type": "code",
   "execution_count": 27,
   "metadata": {
    "id": "bnNZw0ZLrUYk"
   },
   "outputs": [],
   "source": [
    "from sklearn.metrics import classification_report"
   ]
  },
  {
   "cell_type": "code",
   "execution_count": 28,
   "metadata": {
    "colab": {
     "base_uri": "https://localhost:8080/"
    },
    "id": "5AkzPg72sFtF",
    "outputId": "ef24bb5c-acd9-4ec0-cd27-af6bc38f64ec"
   },
   "outputs": [
    {
     "name": "stdout",
     "output_type": "stream",
     "text": [
      "              precision    recall  f1-score   support\n",
      "\n",
      "           0       0.60      0.68      0.64       131\n",
      "           1       0.54      0.33      0.41       129\n",
      "           2       0.33      0.09      0.14        35\n",
      "           3       0.49      0.85      0.62        80\n",
      "\n",
      "    accuracy                           0.54       375\n",
      "   macro avg       0.49      0.49      0.45       375\n",
      "weighted avg       0.53      0.54      0.51       375\n",
      "\n"
     ]
    }
   ],
   "source": [
    "print(classification_report(labels_test, labels_pred))"
   ]
  },
  {
   "cell_type": "code",
   "execution_count": 28,
   "metadata": {
    "id": "gQOHlIKz0PIl"
   },
   "outputs": [],
   "source": []
  },
  {
   "cell_type": "code",
   "execution_count": 29,
   "metadata": {
    "id": "ZOHKlEiM0F2t"
   },
   "outputs": [],
   "source": [
    "labels_test_decoded = le.inverse_transform(labels_test)\n",
    "labels_pred_decoded = le.inverse_transform(labels_pred)"
   ]
  },
  {
   "cell_type": "code",
   "execution_count": 30,
   "metadata": {
    "colab": {
     "base_uri": "https://localhost:8080/"
    },
    "id": "yF_BLkbu0P0N",
    "outputId": "40a08304-1a0a-49d0-9b73-ce10ea1d33e1"
   },
   "outputs": [
    {
     "name": "stdout",
     "output_type": "stream",
     "text": [
      "              precision    recall  f1-score   support\n",
      "\n",
      "       Anger       0.60      0.68      0.64       131\n",
      "         Joy       0.54      0.33      0.41       129\n",
      "    Pleasure       0.33      0.09      0.14        35\n",
      "         Sad       0.49      0.85      0.62        80\n",
      "\n",
      "    accuracy                           0.54       375\n",
      "   macro avg       0.49      0.49      0.45       375\n",
      "weighted avg       0.53      0.54      0.51       375\n",
      "\n"
     ]
    }
   ],
   "source": [
    "print(classification_report(labels_test_decoded, labels_pred_decoded))"
   ]
  },
  {
   "cell_type": "code",
   "execution_count": 31,
   "metadata": {
    "id": "3o8Q5n9gxDd8"
   },
   "outputs": [],
   "source": [
    "from sklearn.metrics import f1_score, balanced_accuracy_score"
   ]
  },
  {
   "cell_type": "code",
   "execution_count": 32,
   "metadata": {
    "colab": {
     "base_uri": "https://localhost:8080/"
    },
    "id": "TG5coO23uSdl",
    "outputId": "c12910b9-0f60-485c-c9c4-d1f551b0279a"
   },
   "outputs": [
    {
     "data": {
      "text/plain": [
       "0.45234816788715865"
      ]
     },
     "execution_count": 32,
     "metadata": {},
     "output_type": "execute_result"
    }
   ],
   "source": [
    "f1_score(labels_test, labels_pred, average=\"macro\")"
   ]
  },
  {
   "cell_type": "code",
   "execution_count": 33,
   "metadata": {
    "colab": {
     "base_uri": "https://localhost:8080/"
    },
    "id": "9LJCAXjHuk68",
    "outputId": "54b3372b-63ae-450f-f4e2-181e35d68d47"
   },
   "outputs": [
    {
     "data": {
      "text/plain": [
       "np.float64(0.4871092330061796)"
      ]
     },
     "execution_count": 33,
     "metadata": {},
     "output_type": "execute_result"
    }
   ],
   "source": [
    "balanced_accuracy_score(labels_test, labels_pred)"
   ]
  },
  {
   "cell_type": "code",
   "execution_count": 34,
   "metadata": {
    "colab": {
     "base_uri": "https://localhost:8080/"
    },
    "id": "ybf4WK5mB4Yh",
    "outputId": "728d7d75-f602-4d4e-d61e-a932f4dc2d0f"
   },
   "outputs": [
    {
     "name": "stderr",
     "output_type": "stream",
     "text": [
      "\u001b[1;38;5;39mCOMET INFO:\u001b[0m ---------------------------------------------------------------------------------------\n",
      "\u001b[1;38;5;39mCOMET INFO:\u001b[0m Comet.ml Experiment Summary\n",
      "\u001b[1;38;5;39mCOMET INFO:\u001b[0m ---------------------------------------------------------------------------------------\n",
      "\u001b[1;38;5;39mCOMET INFO:\u001b[0m   Data:\n",
      "\u001b[1;38;5;39mCOMET INFO:\u001b[0m     display_summary_level : 1\n",
      "\u001b[1;38;5;39mCOMET INFO:\u001b[0m     name                  : neighbouring_fuse_229\n",
      "\u001b[1;38;5;39mCOMET INFO:\u001b[0m     url                   : https://www.comet.com/nikzagl/lstm-mer/f3ed692e27b2401a91e984cf4b0f0fe8\n",
      "\u001b[1;38;5;39mCOMET INFO:\u001b[0m   Metrics [count] (min, max):\n",
      "\u001b[1;38;5;39mCOMET INFO:\u001b[0m     f1_score_macro [25] : (0.32904595404595405, 0.454685894973088)\n",
      "\u001b[1;38;5;39mCOMET INFO:\u001b[0m     loss [1953]         : (0.7655643224716187, 1.518090009689331)\n",
      "\u001b[1;38;5;39mCOMET INFO:\u001b[0m   Others:\n",
      "\u001b[1;38;5;39mCOMET INFO:\u001b[0m     notebook_url : https://colab.research.google.com/notebook#fileId=1baYPqUckVYDwzQtWxo6VmVppV-3IbyTR\n",
      "\u001b[1;38;5;39mCOMET INFO:\u001b[0m   Uploads:\n",
      "\u001b[1;38;5;39mCOMET INFO:\u001b[0m     confusion-matrix    : 1\n",
      "\u001b[1;38;5;39mCOMET INFO:\u001b[0m     environment details : 1\n",
      "\u001b[1;38;5;39mCOMET INFO:\u001b[0m     filename            : 1\n",
      "\u001b[1;38;5;39mCOMET INFO:\u001b[0m     installed packages  : 1\n",
      "\u001b[1;38;5;39mCOMET INFO:\u001b[0m     model graph         : 1\n",
      "\u001b[1;38;5;39mCOMET INFO:\u001b[0m     notebook            : 2\n",
      "\u001b[1;38;5;39mCOMET INFO:\u001b[0m     os packages         : 1\n",
      "\u001b[1;38;5;39mCOMET INFO:\u001b[0m     source_code         : 1\n",
      "\u001b[1;38;5;39mCOMET INFO:\u001b[0m \n"
     ]
    }
   ],
   "source": [
    "experiment.end()"
   ]
  }
 ],
 "metadata": {
  "accelerator": "GPU",
  "colab": {
   "gpuType": "T4",
   "provenance": []
  },
  "kernelspec": {
   "display_name": "Python 3",
   "name": "python3"
  },
  "language_info": {
   "name": "python"
  }
 },
 "nbformat": 4,
 "nbformat_minor": 0
}
